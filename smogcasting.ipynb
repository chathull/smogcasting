{
 "cells": [
  {
   "cell_type": "code",
   "execution_count": 3,
   "metadata": {},
   "outputs": [],
   "source": [
    "# Author: C. Hull (github: chat.hull)\n",
    "\n",
    "# This is a project analyzing historical data of the air quality in Santiago, Chile\n",
    "\n",
    "# The data for a representative weather station in central Santiago can be found here:\n",
    "# https://sinca.mma.gob.cl/index.php/estacion/index/key/D14\n",
    "\n",
    "# Shout-outs to the many posts/github pages that helped me out!\n",
    "# Julia Kho: web scraping, https://towardsdatascience.com/how-to-web-scrape-with-python-in-4-minutes-bc49186a8460\n",
    "# Aditya Sharma: time-series moving averages, https://www.datacamp.com/community/tutorials/moving-averages-in-pandas\n",
    "# Manish Pathak: concatenating/merging in pandas, https://www.datacamp.com/community/tutorials/joining-dataframes-pandas\n",
    "# Laura Fedoruk: time-series manipulation in pandas, https://towardsdatascience.com/basic-time-series-manipulation-with-pandas-4432afee64ea"
   ]
  },
  {
   "cell_type": "code",
   "execution_count": 55,
   "metadata": {},
   "outputs": [],
   "source": [
    "import numpy as np\n",
    "import pandas as pd\n",
    "from pandas.plotting import register_matplotlib_converters\n",
    "register_matplotlib_converters()\n",
    "import requests\n",
    "from bs4 import BeautifulSoup\n",
    "import time\n",
    "from datetime import date\n",
    "from matplotlib import pyplot as plt"
   ]
  },
  {
   "cell_type": "code",
   "execution_count": 56,
   "metadata": {},
   "outputs": [],
   "source": [
    "def isfloat(x) :\n",
    "    try:\n",
    "        float(x)\n",
    "        return True\n",
    "    except:\n",
    "        return False"
   ]
  },
  {
   "cell_type": "code",
   "execution_count": 57,
   "metadata": {},
   "outputs": [],
   "source": [
    "# Scrape SINCA website\n",
    "\n",
    "# Many pollutants, but different stations don't have continuous time coverage of all of them\n",
    "# SO2, NO, NO2, CO, O3, NOX, non-methanic hydrocarbons, PM10, PM2.5\n",
    "\n",
    "# For now, focus on PM10, PM2.5, and weather data at the Parque O'Higgins station in central Santiago\n",
    "station = 'D14'\n",
    "# Earliest common date is 031215 (constrained by weather data)\n",
    "date_from = '031215'\n",
    "# Current date\n",
    "date_to = date.today().strftime(\"%y%m%d\")\n",
    "\n",
    "#PM2.5\n",
    "pm25 = {\n",
    "    'name' : 'pm2.5',\n",
    "    'url' : 'https://sinca.mma.gob.cl/cgi-bin/APUB-MMA/apub.tsindico2.cgi?outtype=txt&macro=./RM/'+station+'/Cal/PM25//PM25.horario.horario.ic&from='+date_from+'&to='+date_to+'&path=/usr/airviro/data/CONAMA/&lang=esp&rsrc=&macropath='\n",
    "}\n",
    "\n",
    "#PM10\n",
    "pm10 = {\n",
    "    'name' : 'pm10',\n",
    "    'url' : 'https://sinca.mma.gob.cl/cgi-bin/APUB-MMA/apub.tsindico2.cgi?outtype=txt&macro=./RM/'+station+'/Cal/PM10//PM10.horario.horario.ic&from='+date_from+'&to='+date_to+'&path=/usr/airviro/data/CONAMA/&lang=esp&rsrc=&macropath='\n",
    "}\n",
    "\n",
    "# Relative humidity\n",
    "rhum = {\n",
    "    'name' : 'rhum',\n",
    "    'url' : 'https://sinca.mma.gob.cl/cgi-bin/APUB-MMA/apub.tsindico2.cgi?outtype=txt&macro=./RM/'+station+'/Met/RHUM//horario_000.ic&from='+date_from+'&to='+date_to+'&path=/usr/airviro/data/CONAMA/&lang=esp&rsrc=&macropath='\n",
    "}\n",
    "\n",
    "# Temperature\n",
    "temp = {\n",
    "    'name' : 'temp',\n",
    "    'url' : 'https://sinca.mma.gob.cl/cgi-bin/APUB-MMA/apub.tsindico2.cgi?outtype=txt&macro=./RM/'+station+'/Met/TEMP//horario_000.ic&from='+date_from+'&to='+date_to+'&path=/usr/airviro/data/CONAMA/&lang=esp&rsrc=&macropath='\n",
    "}\n",
    "\n",
    "# Wind speed\n",
    "wspd = {\n",
    "    'name' : 'wspd',\n",
    "    'url' : 'https://sinca.mma.gob.cl/cgi-bin/APUB-MMA/apub.tsindico2.cgi?outtype=txt&macro=./RM/'+station+'/Met/WSPD//horario_000.ic&from='+date_from+'&to='+date_to+'&path=/usr/airviro/data/CONAMA/&lang=esp&rsrc=&macropath='\n",
    "}\n",
    "\n",
    "# Wind direction\n",
    "wdir = {\n",
    "    'name' : 'wdir',\n",
    "    'url' : 'https://sinca.mma.gob.cl/cgi-bin/APUB-MMA/apub.tsindico2.cgi?outtype=txt&macro=./RM/'+station+'/Met/WDIR//horario_000_spec.ic&from='+date_from+'&to='+date_to+'&path=/usr/airviro/data/CONAMA/&lang=esp&rsrc=&macropath='\n",
    "}"
   ]
  },
  {
   "cell_type": "code",
   "execution_count": 58,
   "metadata": {},
   "outputs": [],
   "source": [
    "def scrapeData(series_url) :\n",
    "    time.sleep(1)\n",
    "    response = requests.get(series_url)\n",
    "    print(response)\n",
    "    return response\n",
    "\n",
    "def formatData(html_response) :\n",
    "    data = html_response.text.split('\\n')\n",
    "    # Clear header and footer text\n",
    "    data = [ line for line in data if len(line) and isfloat(line[0]) ]\n",
    "    # Keep lines with date, time, and validated or preliminary data\n",
    "    data = [ line.split(',')[0:4] for line in data if \\\n",
    "            isfloat(line.split(',')[2]) or isfloat(line.split(',')[3]) ]\n",
    "    return data"
   ]
  },
  {
   "cell_type": "code",
   "execution_count": 59,
   "metadata": {},
   "outputs": [
    {
     "name": "stdout",
     "output_type": "stream",
     "text": [
      "<Response [200]>\n",
      "<Response [200]>\n",
      "<Response [200]>\n",
      "<Response [200]>\n",
      "<Response [200]>\n",
      "<Response [200]>\n"
     ]
    }
   ],
   "source": [
    "# Empty dataframe; will merge other columns into it one by one\n",
    "df_tot = pd.DataFrame(columns=['datetime'])\n",
    "\n",
    "for series in [pm25, pm10, rhum, temp, wspd, wdir] :\n",
    "    response = scrapeData(series['url'])\n",
    "    data = formatData(response)\n",
    "    \n",
    "    # Format dates\n",
    "    df = pd.DataFrame.from_records(data, columns=['date', 'time', 'validated', 'preliminary'])\n",
    "    df['datetime'] = pd.to_datetime(df['date'] + ' ' + df['time'], format='%y%m%d %H%M')\n",
    "    df = df.drop(columns=['date', 'time'])\n",
    "    \n",
    "    # Combine validated and preliminary-data columns (after replacing white space with NaNs)\n",
    "    df = df.replace(r'^\\s+$', np.nan, regex=True)\n",
    "    df[series['name']] = df['validated'].combine_first(df['preliminary'])\n",
    "    df = df.drop(columns=['validated','preliminary'])\n",
    "    \n",
    "    # Convert unicode to floats\n",
    "    df[series['name']] = pd.to_numeric(df[series['name']])\n",
    "    \n",
    "    # Merge latest time-series into full DataFrame, resort index\n",
    "    df_tot = pd.merge(df_tot, df, on='datetime', how='outer')\n",
    "    df_tot = df_tot.sort_values('datetime')\n",
    "    df_tot = df_tot.reset_index(drop=True)"
   ]
  },
  {
   "cell_type": "code",
   "execution_count": 60,
   "metadata": {},
   "outputs": [
    {
     "name": "stdout",
     "output_type": "stream",
     "text": [
      "                  datetime  pm2.5  pm10     rhum     temp      wspd     wdir\n",
      "157579 2021-12-30 17:00:00    NaN   NaN  31.8333  28.5333  3.234930  126.875\n",
      "157580 2021-12-30 18:00:00    NaN   NaN  36.1667  27.0833  2.644940  127.464\n",
      "157581 2021-12-30 19:00:00    NaN   NaN  43.0833  24.7667  2.251480  126.762\n",
      "157582 2021-12-30 20:00:00    NaN   NaN  50.5833  22.1750  1.722630  119.837\n",
      "157583 2021-12-30 21:00:00    NaN   NaN  53.2500  20.7500  1.671000  117.198\n",
      "157584 2021-12-30 22:00:00    NaN   NaN  55.4167  19.7500  1.148390  107.440\n",
      "157585 2021-12-30 23:00:00    NaN   NaN  58.2500  18.7167  0.401692  102.310\n",
      "157586 2021-12-31 00:00:00    NaN   NaN  61.8333  17.6667  0.114960  103.093\n",
      "157587 2021-12-31 01:00:00    NaN   NaN  64.9167  16.4667  0.016099  176.000\n",
      "157588 2021-12-31 02:00:00    NaN   NaN  66.7500  16.0500  0.253836  152.265\n",
      "157589 2021-12-31 03:00:00    NaN   NaN  70.4167  15.3083  0.284463  146.884\n",
      "157590 2021-12-31 04:00:00    NaN   NaN  72.7500  14.5167  0.165170  154.111\n",
      "157591 2021-12-31 05:00:00    NaN   NaN  75.2500  13.9250  0.000000   90.000\n",
      "157592 2021-12-31 06:00:00    NaN   NaN  70.4167  16.4833  0.025000  297.000\n",
      "157593 2021-12-31 07:00:00    NaN   NaN  53.5833  20.6000  0.491002  232.609\n"
     ]
    }
   ],
   "source": [
    "print(df_tot.tail(n=15))"
   ]
  },
  {
   "cell_type": "code",
   "execution_count": 61,
   "metadata": {},
   "outputs": [],
   "source": [
    "# Set datetime column as the index of the dataframe\n",
    "df_tot = df_tot.set_index('datetime')"
   ]
  },
  {
   "cell_type": "code",
   "execution_count": 74,
   "metadata": {},
   "outputs": [],
   "source": [
    "## This may not be necessary given the resample feature\n",
    "# df_tot['pm2.5run'] = df_tot['pm2.5'].rolling(window=4).mean()\n",
    "# df_tot['pm10run']  = df_tot['pm10'].rolling(window=4).mean()\n",
    "# df_tot['rhumrun']  = df_tot['rhum'].rolling(window=4).mean()\n",
    "# df_tot['temprun']  = df_tot['temp'].rolling(window=4).mean()\n",
    "# df_tot['wspdrun']  = df_tot['wspd'].rolling(window=4).mean()\n",
    "# df_tot['wdirrun']  = df_tot['wdir'].rolling(window=4).mean()"
   ]
  },
  {
   "cell_type": "code",
   "execution_count": 109,
   "metadata": {},
   "outputs": [
    {
     "name": "stderr",
     "output_type": "stream",
     "text": [
      "No handles with labels found to put in legend.\n"
     ]
    },
    {
     "data": {
      "text/plain": [
       "<matplotlib.legend.Legend at 0x7fc15b001dc0>"
      ]
     },
     "execution_count": 109,
     "metadata": {},
     "output_type": "execute_result"
    },
    {
     "data": {
      "image/png": "[encoded data removed]",
      "text/plain": [
       "<Figure size 432x288 with 1 Axes>"
      ]
     },
     "metadata": {
      "needs_background": "light"
     },
     "output_type": "display_data"
    }
   ],
   "source": [
    "# Sample plots\n",
    "t_min='2000-01-01'\n",
    "t_max='2030-01-01'\n",
    "plt.plot(df_tot['pm2.5'][t_min:t_max].resample('M').mean(),'-')\n",
    "plt.plot(df_tot['wdir'][t_min:t_max].resample('M').mean(),'-')\n",
    "plt.legend()"
   ]
  },
  {
   "cell_type": "code",
   "execution_count": 96,
   "metadata": {},
   "outputs": [
    {
     "name": "stderr",
     "output_type": "stream",
     "text": [
      "No handles with labels found to put in legend.\n"
     ]
    },
    {
     "data": {
      "text/plain": [
       "<matplotlib.legend.Legend at 0x7fc158dc1f70>"
      ]
     },
     "execution_count": 96,
     "metadata": {},
     "output_type": "execute_result"
    },
    {
     "data": {
      "image/png": "[encoded data removed]",
      "text/plain": [
       "<Figure size 432x288 with 1 Axes>"
      ]
     },
     "metadata": {
      "needs_background": "light"
     },
     "output_type": "display_data"
    }
   ],
   "source": [
    "# Sample plots\n",
    "t_min='2019-01-01'\n",
    "t_max='2020-01-01'\n",
    "plt.plot(df_tot['temp'][t_min:t_max],'-')\n",
    "plt.plot(0.3*df_tot['rhum'][t_min:t_max],'-')\n",
    "plt.legend()"
   ]
  },
  {
   "cell_type": "code",
   "execution_count": 43,
   "metadata": {},
   "outputs": [],
   "source": [
    "# TODO: \n",
    "# Do PCA on the time series and remove the annual and diurnal signals\n",
    "# Test correlations: positive (PM2.5 and PM10), and negative (temp and rhum)"
   ]
  },
  {
   "cell_type": "code",
   "execution_count": 44,
   "metadata": {},
   "outputs": [],
   "source": [
    "\n",
    "# TESTS\n"
   ]
  },
  {
   "cell_type": "code",
   "execution_count": 45,
   "metadata": {},
   "outputs": [
    {
     "data": {
      "text/plain": [
       "datetime\n",
       "2020-05-31    29.901617\n",
       "2020-06-30    29.346424\n",
       "2020-07-31    38.548518\n",
       "2020-08-31    27.115591\n",
       "2020-09-30    20.402507\n",
       "2020-10-31    14.676075\n",
       "2020-11-30    11.818056\n",
       "2020-12-31    10.813725\n",
       "2021-01-31    12.211022\n",
       "2021-02-28    12.256716\n",
       "2021-03-31    13.916019\n",
       "2021-04-30    20.654596\n",
       "2021-05-31    36.098383\n",
       "2021-06-30    37.434783\n",
       "2021-07-31    50.344086\n",
       "2021-08-31    34.634278\n",
       "2021-09-30    17.506944\n",
       "2021-10-31    13.994429\n",
       "2021-11-30    11.614206\n",
       "2021-12-31    12.907154\n",
       "Freq: M, Name: pm2.5, dtype: float64"
      ]
     },
     "execution_count": 45,
     "metadata": {},
     "output_type": "execute_result"
    }
   ],
   "source": [
    "df_tot['pm2.5'].resample('M').mean().tail(n=20)"
   ]
  },
  {
   "cell_type": "code",
   "execution_count": null,
   "metadata": {},
   "outputs": [],
   "source": []
  },
  {
   "cell_type": "code",
   "execution_count": null,
   "metadata": {},
   "outputs": [],
   "source": []
  }
 ],
 "metadata": {
  "kernelspec": {
   "display_name": "Python 3 (ipykernel)",
   "language": "python",
   "name": "python3"
  },
  "language_info": {
   "codemirror_mode": {
    "name": "ipython",
    "version": 3
   },
   "file_extension": ".py",
   "mimetype": "text/x-python",
   "name": "python",
   "nbconvert_exporter": "python",
   "pygments_lexer": "ipython3",
   "version": "3.9.7"
  }
 },
 "nbformat": 4,
 "nbformat_minor": 2
}
